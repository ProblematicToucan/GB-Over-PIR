{
 "cells": [
  {
   "cell_type": "markdown",
   "metadata": {},
   "source": [
    "# Top"
   ]
  },
  {
   "cell_type": "markdown",
   "metadata": {},
   "source": [
    "# [Test](#@Test)"
   ]
  },
  {
   "cell_type": "code",
   "execution_count": 1,
   "metadata": {},
   "outputs": [],
   "source": [
    "_LCM = lambda f, g: f.parent().monomial_lcm(f, g)\n",
    "_LC = lambda f : f.lc()\n",
    "_LM = lambda f : f.lm()\n",
    "_LT = lambda f : f.lt()\n",
    "_Tail = lambda f : f - f.lt()\n",
    "\n",
    "\n",
    "def choose(P):\n",
    "    return max(P)\n",
    "\n",
    "\n",
    "def ann(f):\n",
    "    lc_f = _LC(f)\n",
    "    if lc_f.is_unit() or lc_f.is_zero():\n",
    "        return 0\n",
    "    else:\n",
    "        element = f.lc().parent().list()\n",
    "        element.remove(0)\n",
    "        for i in element:\n",
    "            if lc_f * i == 0:\n",
    "                return f.parent()(factor(Integer(i)).radical()[0][0])\n",
    "\n",
    "\n",
    "def spoly(f, g):\n",
    "    t = _LCM(f,g)\n",
    "    t_f = t//_LM(f)\n",
    "    t_g = t//_LM(g)\n",
    "    \n",
    "    a = lcm(_LC(f), _LC(g))\n",
    "    a_f = a//_LC(f)\n",
    "    a_g = a//_LC(g)\n",
    "    return a_f*t_f*f - a_g*t_g*g\n",
    "\n",
    "\n",
    "def gpoly(f, g):\n",
    "    t = _LCM(f,g)\n",
    "    t_f = t//_LM(f)\n",
    "    t_g = t//_LM(g)\n",
    "    \n",
    "    b, b_f, b_g = xgcd(Integer(_LC(f)), Integer(_LC(g)))\n",
    "    return b_f*t_f*f + b_g*t_g*g\n",
    "\n",
    "\n",
    "def apoly(f):\n",
    "    a = ann(f)\n",
    "    return a*_Tail(f)"
   ]
  },
  {
   "cell_type": "markdown",
   "metadata": {},
   "source": [
    "# Buchberger Algorithm"
   ]
  },
  {
   "cell_type": "code",
   "execution_count": 2,
   "metadata": {},
   "outputs": [],
   "source": [
    "def buchberger(F):\n",
    "\n",
    "    G = set(F.gens())\n",
    "    B = set((g1, g2) for g1 in G for g2 in G if g1 != g2)\n",
    "\n",
    "    while B:\n",
    "        g1, g2 = select(B)\n",
    "        \n",
    "        for g in g1,g2:\n",
    "            if not _LC(g).is_unit():\n",
    "                return _LC(g)\n",
    "        \n",
    "        B.remove((g1, g2))\n",
    "\n",
    "        h = spoly(g1, g2).reduce(G)\n",
    "        if h != 0:\n",
    "            B = B.union((g, h) for g in G)\n",
    "            G.add(h)\n",
    "\n",
    "\n",
    "    return Sequence(G).reduced()\n",
    "\n",
    "def select(P):\n",
    "    return min(P, key=lambda fi_fj: _LCM(_LM(fi_fj[0]),\n",
    "                                        _LM(fi_fj[1])).total_degree())\n"
   ]
  },
  {
   "cell_type": "markdown",
   "metadata": {},
   "source": [
    "# ! Proposisi 16 : Case 2 only"
   ]
  },
  {
   "cell_type": "code",
   "execution_count": 3,
   "metadata": {},
   "outputs": [],
   "source": [
    "def factorize(n):\n",
    "    factor_n = factor(n)\n",
    "    x, y = factor_n[0]\n",
    "    q = n/(x^y)\n",
    "    return (x^y), q"
   ]
  },
  {
   "cell_type": "markdown",
   "metadata": {},
   "source": [
    "# ! Corolary 14"
   ]
  },
  {
   "cell_type": "code",
   "execution_count": 4,
   "metadata": {},
   "outputs": [],
   "source": [
    "def fki(g1, g2, u, v, a, b, R):\n",
    "    idtmp1 = R.ideal(g1)\n",
    "    idtmp2 = R.ideal(g2)\n",
    "    rg1 = Sequence(idtmp1)    \n",
    "    rg2 = Sequence(idtmp2)\n",
    "    rg1.append(a)\n",
    "    rg2.append(b)\n",
    "    G = set()\n",
    "    for k in rg1:\n",
    "        for l in rg2:\n",
    "            f = (u*a*_LCM(_LM(k),_LM(l))*_LC(k)*l//_LM(l)) + (v*b*_LCM(_LM(k),_LM(l))*_LC(l)*k//_LM(k))\n",
    "            G = G.union({f})\n",
    "    return Sequence(G).reduced()"
   ]
  },
  {
   "cell_type": "markdown",
   "metadata": {},
   "source": [
    "# ! Algoritma Eder Hofmann ft. Buchberger"
   ]
  },
  {
   "cell_type": "code",
   "execution_count": 5,
   "metadata": {},
   "outputs": [],
   "source": [
    "def GB_PIR_BBGR(I):\n",
    "    R = I.ring()\n",
    "    Rn = R.base_ring()\n",
    "    \n",
    "    if Rn.is_field():\n",
    "        \n",
    "        return buchberger(I)\n",
    "    else:\n",
    "\n",
    "        factor_n = factor(Rn.cardinality())\n",
    "        if len(factor_n) == 1:\n",
    "            \n",
    "            \n",
    "            return I.groebner_basis('singular').reduced()\n",
    "        else:\n",
    "            \n",
    "            buchberger_test = buchberger(I)\n",
    "            if isinstance(buchberger_test, list):\n",
    "                \n",
    "                return buchberger_test\n",
    "                \n",
    "            else:\n",
    "                p, q = factorize(Rn.cardinality())\n",
    "                Rp = I.ring().change_ring(Integers(p))\n",
    "                Ip = Rp.ideal(Sequence(Rp.ideal(I).gens()).reduced())\n",
    "                Gbp = GB_PIR_BBGR(Ip)\n",
    "                Rq = I.ring().change_ring(Integers(q))\n",
    "                Iq = Rq.ideal(Sequence(Rq.ideal(I).gens()).reduced())\n",
    "                Gbq = GB_PIR_BBGR(Iq)\n",
    "                \n",
    "                d, u, v = xgcd(p,q)\n",
    "\n",
    "                G = fki(Gbp, Gbq, R(u),R(v),R(p),R(q),R)\n",
    "\n",
    "                return G.reduced()\n",
    "        \n",
    "        \n",
    "        \n",
    "#"
   ]
  },
  {
   "cell_type": "markdown",
   "metadata": {},
   "source": [
    "# @Test"
   ]
  },
  {
   "cell_type": "code",
   "execution_count": 6,
   "metadata": {},
   "outputs": [
    {
     "data": {
      "text/plain": [
       "Multivariate Polynomial Ring in a, b, c, d, e, f, g, h, i over Ring of integers modulo 900"
      ]
     },
     "execution_count": 6,
     "metadata": {},
     "output_type": "execute_result"
    }
   ],
   "source": [
    "R.<a,b,c,d,e,f,g,h,i> = PolynomialRing(Integers(900))\n",
    "R"
   ]
  },
  {
   "cell_type": "code",
   "execution_count": 34,
   "metadata": {
    "scrolled": true
   },
   "outputs": [
    {
     "data": {
      "text/plain": [
       "Ideal (a*b + b*c + c*d + d*e + e*f + f*g + a + 899*h, a*c + b*d + c*e + d*f + e*g + b + 898*h, a*d + b*e + c*f + d*g + c + 897*h, a*e + b*f + c*g + d + 896*h, a*f + b*g + e + 895*h, a*g + f + 894*h, g + 893*h, a + b + c + d + e + f + g + 1) of Multivariate Polynomial Ring in a, b, c, d, e, f, g, h, i over Ring of integers modulo 900"
      ]
     },
     "execution_count": 34,
     "metadata": {},
     "output_type": "execute_result"
    }
   ],
   "source": [
    "# F = sage.rings.ideal.Katsura(R,8)\n",
    "F =  R.ideal(a + a*b + b*c + c*d + d*e + e*f + f*g -   h, b + a*c + b*d + c*e + d*f + e*g - 2*h,\tc + a*d + b*e + c*f + d*g - 3*h, d + a*e + b*f + c*g - 4*h, e + a*f + b*g - 5*h, f + a*g - 6*h, g - 7*h, a + b + c + d + e + f + g + 1)\n",
    "F"
   ]
  },
  {
   "cell_type": "code",
   "execution_count": 35,
   "metadata": {},
   "outputs": [
    {
     "name": "stdout",
     "output_type": "stream",
     "text": [
      "CPU times: user 14.4 s, sys: 23.7 ms, total: 14.4 s\n",
      "Wall time: 14.6 s\n"
     ]
    },
    {
     "data": {
      "text/plain": [
       "Polynomial Sequence with 65 Polynomials in 8 Variables"
      ]
     },
     "execution_count": 35,
     "metadata": {},
     "output_type": "execute_result"
    }
   ],
   "source": [
    "%time GB_PIR_BBGR(F)"
   ]
  },
  {
   "cell_type": "code",
   "execution_count": null,
   "metadata": {},
   "outputs": [],
   "source": []
  },
  {
   "cell_type": "code",
   "execution_count": 53,
   "metadata": {
    "scrolled": true
   },
   "outputs": [
    {
     "name": "stdout",
     "output_type": "stream",
     "text": [
      "CPU times: user 18min 16s, sys: 1.07 s, total: 18min 17s\n",
      "Wall time: 18min 17s\n"
     ]
    },
    {
     "data": {
      "text/plain": [
       "Polynomial Sequence with 66 Polynomials in 9 Variables"
      ]
     },
     "execution_count": 53,
     "metadata": {},
     "output_type": "execute_result"
    }
   ],
   "source": [
    "%time GB_PIR_BBGR(F) # eco 9"
   ]
  },
  {
   "cell_type": "markdown",
   "metadata": {},
   "source": [
    "# [Top](#Top)"
   ]
  }
 ],
 "metadata": {
  "kernelspec": {
   "display_name": "SageMath 9.4",
   "language": "sage",
   "name": "sagemath"
  },
  "language_info": {
   "codemirror_mode": {
    "name": "ipython",
    "version": 3
   },
   "file_extension": ".py",
   "mimetype": "text/x-python",
   "name": "python",
   "nbconvert_exporter": "python",
   "pygments_lexer": "ipython3",
   "version": "3.9.5"
  }
 },
 "nbformat": 4,
 "nbformat_minor": 4
}

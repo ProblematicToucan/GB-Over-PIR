{
 "cells": [
  {
   "cell_type": "markdown",
   "metadata": {},
   "source": [
    "# Top"
   ]
  },
  {
   "cell_type": "code",
   "execution_count": 1,
   "metadata": {},
   "outputs": [],
   "source": [
    "_LCM = lambda f, g: f.parent().monomial_lcm(f, g)\n",
    "_LC = lambda f : f.lc()\n",
    "_LM = lambda f : f.lm()\n",
    "_LT = lambda f : f.lt()"
   ]
  },
  {
   "cell_type": "code",
   "execution_count": 2,
   "metadata": {},
   "outputs": [],
   "source": [
    "def inter_reduction(Q):\n",
    "\n",
    "    if not Q:\n",
    "        return Q  # if Q is empty we cannot get a base ring\n",
    "    base_ring = next(iter(Q)).base_ring()\n",
    "\n",
    "    Q = set(Q)\n",
    "    while True:\n",
    "        Qbar = set(Q)\n",
    "        for p in sorted(Qbar):\n",
    "            Q.remove(p)\n",
    "            h = p.reduce(Q)\n",
    "            if not h.is_zero():\n",
    "                Q.add(h)\n",
    "        if Qbar == Q:\n",
    "            if base_ring.is_field():\n",
    "                return set(f.lc()**(-1) * f for f in Qbar)\n",
    "            else:\n",
    "                return Qbar"
   ]
  },
  {
   "cell_type": "markdown",
   "metadata": {},
   "source": [
    "# Remake Algoritma F4"
   ]
  },
  {
   "cell_type": "code",
   "execution_count": 3,
   "metadata": {},
   "outputs": [],
   "source": [
    "def cxa(fi,fj):\n",
    "    return lcm(fi.lc(), fj.lc()) * _LCM(fi, fj)\n",
    "\n",
    "def S(P):\n",
    "    return min(P)\n",
    "\n",
    "LTS = lambda G : set(_LT(g) for g in G)\n",
    "\n",
    "def F4_remake(Id):\n",
    "    \n",
    "    G = set(Id.gens())\n",
    "    \n",
    "    for g in G:\n",
    "        if not _LC(g).is_unit():\n",
    "            return _LC(g)\n",
    "    \n",
    "    G = inter_reduction(G)\n",
    "        \n",
    "    P = set((f,g) for f in G for g in G if f != g if f < g)\n",
    "    \n",
    "    H = set()\n",
    "\n",
    "    while P:\n",
    "        \n",
    "        for p in P:\n",
    "            for i in p:\n",
    "                if not _LC(i).is_unit():\n",
    "                    return _LC(i)\n",
    "        \n",
    "        fi, fj = S(P)\n",
    "        \n",
    "        \n",
    "        H = H.union({cxa(fi, fj)*fj//_LM(fj)})\n",
    "        H = H.union({cxa(fi, fj)*fi//_LM(fi)})\n",
    "        \n",
    "        P.remove((fi, fj))\n",
    "        \n",
    "        H = H.union(G)\n",
    "        \n",
    "        H = inter_reduction(H)\n",
    "        \n",
    "        P = P.union(set((f,h) for f in G for h in H if _LT(h) not in LTS(G))) #cek lagi\n",
    "        \n",
    "        G = H\n",
    "\n",
    "    return Sequence(G).reduced()"
   ]
  },
  {
   "cell_type": "markdown",
   "metadata": {},
   "source": [
    "# ! Proposisi 16 : Case 2 only"
   ]
  },
  {
   "cell_type": "code",
   "execution_count": 4,
   "metadata": {},
   "outputs": [],
   "source": [
    "def factorize(n):\n",
    "    factor_n = factor(n)\n",
    "    x, y = factor_n[0]\n",
    "    q = n/(x^y)\n",
    "    return (x^y), q"
   ]
  },
  {
   "cell_type": "markdown",
   "metadata": {},
   "source": [
    "# ! Corolary 14"
   ]
  },
  {
   "cell_type": "code",
   "execution_count": 5,
   "metadata": {},
   "outputs": [],
   "source": [
    "def fki(g1, g2, u, v, a, b, R):\n",
    "    idtmp1 = R.ideal(g1)\n",
    "    idtmp2 = R.ideal(g2)\n",
    "    rg1 = Sequence(idtmp1)    \n",
    "    rg2 = Sequence(idtmp2)\n",
    "    rg1.append(a)\n",
    "    rg2.append(b)\n",
    "    G = set()\n",
    "    for k in rg1:\n",
    "        for l in rg2:\n",
    "            f = (u*a*_LCM(_LM(k),_LM(l))*_LC(k)*l//_LM(l)) + (v*b*_LCM(_LM(k),_LM(l))*_LC(l)*k//_LM(k))\n",
    "            G = G.union({f})\n",
    "    return Sequence(G).reduced()"
   ]
  },
  {
   "cell_type": "markdown",
   "metadata": {},
   "source": [
    "# ! Algoritma Eder Hofmann ft. F4"
   ]
  },
  {
   "cell_type": "code",
   "execution_count": 6,
   "metadata": {},
   "outputs": [],
   "source": [
    "def GB_PIR_F4(I):\n",
    "    R = I.ring()\n",
    "    Rn = R.base_ring()\n",
    "    \n",
    "    if Rn.is_field():\n",
    "        \n",
    "        return I.groebner_basis('macaulay2:f4')\n",
    "    else:\n",
    "\n",
    "        factor_n = factor(Rn.cardinality())\n",
    "        if len(factor_n) == 1:\n",
    "            \n",
    "            \n",
    "            return I.groebner_basis('singular').reduced()\n",
    "        else:\n",
    "            \n",
    "            test = F4_remake(I)\n",
    "            if isinstance(test, list):\n",
    "                \n",
    "                return test\n",
    "                \n",
    "            else:\n",
    "                p, q = factorize(Rn.cardinality())\n",
    "                Rp = I.ring().change_ring(Integers(p))\n",
    "                Ip = Rp.ideal(Sequence(Rp.ideal(I).gens()).reduced())\n",
    "                Gbp = GB_PIR_F4(Ip)\n",
    "                Rq = I.ring().change_ring(Integers(q))\n",
    "                Iq = Rq.ideal(Sequence(Rq.ideal(I).gens()).reduced())\n",
    "                Gbq = GB_PIR_F4(Iq)\n",
    "                \n",
    "                d, u, v = xgcd(p,q)\n",
    "\n",
    "                G = fki(Gbp, Gbq, R(u),R(v),R(p),R(q),R)\n",
    "\n",
    "                return G.reduced()\n",
    "        \n",
    "        \n",
    "        \n",
    "#"
   ]
  },
  {
   "cell_type": "code",
   "execution_count": 8,
   "metadata": {
    "scrolled": true
   },
   "outputs": [
    {
     "data": {
      "text/plain": [
       "Multivariate Polynomial Ring in a, b, c, d, e, f, g, h, i over Ring of integers modulo 900"
      ]
     },
     "execution_count": 8,
     "metadata": {},
     "output_type": "execute_result"
    }
   ],
   "source": [
    "R.<a,b,c,d,e,f,g,h,i> = PolynomialRing(Integers(900))\n",
    "R"
   ]
  },
  {
   "cell_type": "code",
   "execution_count": 45,
   "metadata": {},
   "outputs": [
    {
     "data": {
      "text/plain": [
       "Ideal (a*b + b*c + c*d + d*e + e*f + a + 899*g, a*c + b*d + c*e + d*f + b + 898*g, a*d + b*e + c*f + c + 897*g, a*e + b*f + d + 896*g, a*f + e + 895*g, f + 894*g, a + b + c + d + e + f + 1) of Multivariate Polynomial Ring in a, b, c, d, e, f, g, h, i over Ring of integers modulo 900"
      ]
     },
     "execution_count": 45,
     "metadata": {},
     "output_type": "execute_result"
    }
   ],
   "source": [
    "# F = sage.rings.ideal.Katsura(R,8)\n",
    "F =  R.ideal(a + a*b + b*c + c*d + d*e + e*f -   g, b + a*c + b*d + c*e + d*f - 2*g, c + a*d + b*e + c*f - 3*g, d + a*e + b*f - 4*g, e + a*f - 5*g, f - 6*g, a + b + c + d + e + f + 1)\n",
    "F"
   ]
  },
  {
   "cell_type": "code",
   "execution_count": 47,
   "metadata": {},
   "outputs": [
    {
     "name": "stdout",
     "output_type": "stream",
     "text": [
      "CPU times: user 251 ms, sys: 7.94 ms, total: 259 ms\n",
      "Wall time: 293 ms\n"
     ]
    },
    {
     "data": {
      "text/plain": [
       "[25*g^5 + 725*g^4 + 100*d^3 + 675*d^2*e + 225*d*e*g + 725*d*g^2 + 800*e*g^2 + 225*g^3 + 375*c^2 + 500*d^2 + 725*c*e + 500*d*e + 375*c*g + 700*e*g + 800*g^2 + 650*b + 400*d + 325*e + 775*g + 425, c^3 + 748*d^3 + 572*d^2*e + 72*d*e^2 + 324*e^3 + 425*d^2*g + 468*e^2*g + 225*d*g^2 + 491*e*g^2 + 630*g^3 + 756*c*d + 603*d^2 + 581*c*e + 712*d*e + 756*e^2 + 422*c*g + 325*d*g + 468*e*g + 582*g^2 + 897*b + 447*c + 72*d + 536*e + 236*g + 899, c^2*g + 448*d*e*g + 324*e^2*g + 288*d*g^2 + e*g^2 + 378*g^3 + 300*c^2 + 800*c*d + 200*d^2 + 283*c*e + 433*d*e + 108*e^2 + 786*c*g + 136*d*g + 684*e*g + 342*g^2 + 750*b + 875*c + 571*d + 216*e + 610*g, c*g^2 + 451*d*g^2 + 376*e*g^2 + 831*g^3 + 25*d^2 + 700*c*e + 216*e^2 + 875*c*g + 279*d*g + 224*e*g + 140*g^2 + 325*e + 25*g, b^2 + 448*c*d + 899*d^2 + 223*c*e + 896*d*e + 648*e^2 + 663*c*g + 576*d*g + 764*e*g + 642*g^2 + 2*b + 2*c + 452*d + 377*e + 788*g + 1, b*c + c^2 + 452*c*d + d^2 + 676*c*e + 452*d*e + 576*e^2 + 231*c*g + 756*d*g + 612*e*g + 361*g^2 + 899*b + 20*g, b*g + c*g + 151*d*g + 776*e*g + 31*g^2 + 150*c + 175*d + 504*e + 831*g, a + b + c + d + e + 6*g + 1, 150*d + 625*e + 775*g, 150*e + 150*g, f + 894*g]"
      ]
     },
     "execution_count": 47,
     "metadata": {},
     "output_type": "execute_result"
    }
   ],
   "source": [
    "%time GB_PIR_F4(F)"
   ]
  },
  {
   "cell_type": "code",
   "execution_count": null,
   "metadata": {},
   "outputs": [],
   "source": []
  },
  {
   "cell_type": "code",
   "execution_count": null,
   "metadata": {},
   "outputs": [],
   "source": []
  },
  {
   "cell_type": "code",
   "execution_count": null,
   "metadata": {},
   "outputs": [],
   "source": []
  },
  {
   "cell_type": "code",
   "execution_count": 71,
   "metadata": {},
   "outputs": [
    {
     "name": "stdout",
     "output_type": "stream",
     "text": [
      "CPU times: user 8min 14s, sys: 716 ms, total: 8min 15s\n",
      "Wall time: 8min 15s\n"
     ]
    },
    {
     "data": {
      "text/plain": [
       "Polynomial Sequence with 66 Polynomials in 9 Variables"
      ]
     },
     "execution_count": 71,
     "metadata": {},
     "output_type": "execute_result"
    }
   ],
   "source": [
    "%time GB_PIR_F4(F) # eco 9"
   ]
  },
  {
   "cell_type": "markdown",
   "metadata": {},
   "source": [
    "# [Top](#Top)"
   ]
  }
 ],
 "metadata": {
  "kernelspec": {
   "display_name": "SageMath 9.4",
   "language": "sage",
   "name": "sagemath"
  },
  "language_info": {
   "codemirror_mode": {
    "name": "ipython",
    "version": 3
   },
   "file_extension": ".py",
   "mimetype": "text/x-python",
   "name": "python",
   "nbconvert_exporter": "python",
   "pygments_lexer": "ipython3",
   "version": "3.9.5"
  }
 },
 "nbformat": 4,
 "nbformat_minor": 4
}
